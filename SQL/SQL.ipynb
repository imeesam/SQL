{
 "cells": [
  {
   "cell_type": "markdown",
   "id": "afade564-3d95-4c88-8c00-51ecbd9114a5",
   "metadata": {
    "jp-MarkdownHeadingCollapsed": true
   },
   "source": [
    "## SQL\n",
    "##### stands for structured query language it is widely used for database management system"
   ]
  },
  {
   "cell_type": "markdown",
   "id": "19a3d6d2-0362-437c-b5f2-4a55e82b758d",
   "metadata": {},
   "source": [
    "## RDBMS\n",
    "##### stands for Relational Database Management System  relational database management system (RDBMS) is a program used to create, update, and manage relational databases. A relational database includes tables containing rows and columns."
   ]
  },
  {
   "cell_type": "markdown",
   "id": "3822612e-999a-44f6-aa3c-3e56b7388401",
   "metadata": {},
   "source": [
    "## Primary Key\n",
    "##### a column in a relational database table that's distinctive (Muktalif) for each record"
   ]
  },
  {
   "cell_type": "markdown",
   "id": "08394b94-36f4-40a7-92ee-47d140c426eb",
   "metadata": {},
   "source": [
    "### Commands for MYSQL."
   ]
  },
  {
   "cell_type": "code",
   "execution_count": 2,
   "id": "4c84ef05-c283-412c-9f90-72403d181351",
   "metadata": {},
   "outputs": [],
   "source": [
    "# show databases; is used to show/display the avaliable databases.\n",
    "# create database `Name of DB`; is used to create database\n",
    "# create database if not exists `Name of DB`; is used to create database (but this prevent error if database exist of same name)\n",
    "# use Name of DB ; is used to change database\n",
    "# create table nameoftable (properties); is used to create a table and in properties u will define its row and column\n",
    "# for e.g :- \n",
    "#        employee_id INT(10), employee_name VARCHAR(255), employee_address VARCHAR(255)\n",
    "#        VARCHAR--> for String\n",
    "#        INT --> for Numbers\n",
    "#        AUTO_INCREMENT --> to increase it automatically \n",
    "# create table if not exists (properties); is used to create a table (but this prevents error if database exists of same name)\n",
    "# show tables; is used to show/display the available Tables in that database.\n",
    "# desc name of table; is used to describe the properties of table.\n",
    "# insert into table name(properties) values(values for that properties) ; is used to insert values in its particular table \n",
    "# select * from name of table; is used to show all (retrive) the data from that table \n"
   ]
  },
  {
   "cell_type": "code",
   "execution_count": 3,
   "id": "12497c16-fb5b-4d61-a540-4ee4678fa69d",
   "metadata": {},
   "outputs": [],
   "source": [
    "# select * from (name of table) Where (name of row) = \"xyz\" ; it will fetch all the data where name of row consist of this xyz\n",
    "# select * from (name of table) order by (property) asc/desc; where asc means ascending order  and desc means descending orders {The query \"SELECT * FROM employee ORDER BY employee_name ASC;\" retrieves all records from the \"employee\" table and arranges them in ascending order based on the values in the \"employee_name\" column.\n",
    "# delete from (name of table) where (property)='variable in that property'; is used to delete that property from the table\n",
    "# alter table (name of table) drop column (property); The query \"ALTER TABLE employee DROP COLUMN employee_address;\" in MySQL alters the \"employee\" table by removing or dropping the column named \"employee_address\" from the table's structure. This action permanently deletes the specified column and its data from the table."
   ]
  },
  {
   "cell_type": "code",
   "execution_count": null,
   "id": "b0eaf30b-2dee-4eec-9b26-05fdc67a1033",
   "metadata": {},
   "outputs": [],
   "source": [
    "# update table name set propertyname = \"new name\" where propertyname = \"old name\"\n",
    "# ----> in this,set will be used to set propertyname to new and where will provide it existing.\n",
    "# update (tablename) set (property) =\"Black Panter\", (property) =\"Waganda, Africa\" where (property) =8;\n",
    "# with limit you can set limit while selecting rows in tables \n",
    "# select * from (table name) limit 4;\n",
    "# with offeset you can skip rows.\n",
    "# drop data base is used is too delete an entire data base\n",
    "\n"
   ]
  }
 ],
 "metadata": {
  "kernelspec": {
   "display_name": "Python 3 (ipykernel)",
   "language": "python",
   "name": "python3"
  },
  "language_info": {
   "codemirror_mode": {
    "name": "ipython",
    "version": 3
   },
   "file_extension": ".py",
   "mimetype": "text/x-python",
   "name": "python",
   "nbconvert_exporter": "python",
   "pygments_lexer": "ipython3",
   "version": "3.11.7"
  }
 },
 "nbformat": 4,
 "nbformat_minor": 5
}
